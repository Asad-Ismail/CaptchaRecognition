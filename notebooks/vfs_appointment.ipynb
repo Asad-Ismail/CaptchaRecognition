{
 "cells": [
  {
   "cell_type": "code",
   "execution_count": 1,
   "metadata": {},
   "outputs": [],
   "source": [
    "from selenium import webdriver\n",
    "from selenium.webdriver.common.by import By\n",
    "import cv2\n",
    "import time\n",
    "import os\n",
    "from time import sleep\n",
    "import smtplib\n",
    "import ssl\n",
    "from email.message import EmailMessage\n",
    "import datetime\n",
    "import re\n",
    "from bs4 import BeautifulSoup\n",
    "import os\n",
    "import numpy as np\n",
    "import matplotlib.pyplot as plt\n",
    "from pathlib import Path\n",
    "from collections import Counter\n",
    "from selenium.webdriver.support.ui import WebDriverWait"
   ]
  },
  {
   "cell_type": "code",
   "execution_count": 2,
   "metadata": {},
   "outputs": [],
   "source": [
    "PATH=\"../chromedriver\""
   ]
  },
  {
   "cell_type": "code",
   "execution_count": 3,
   "metadata": {},
   "outputs": [],
   "source": [
    "def save_page(content,name=\"content.html\",err=False):\n",
    "    page = content.encode('utf-8')\n",
    "    if err:\n",
    "        file_ = open('err.html', 'wb')\n",
    "        file_.write(page)\n",
    "        file_.close()\n",
    "    else:\n",
    "        file_ = open(name, 'wb')\n",
    "        file_.write(page)\n",
    "        file_.close()"
   ]
  },
  {
   "cell_type": "code",
   "execution_count": 4,
   "metadata": {},
   "outputs": [],
   "source": [
    "link=\"https://visa.vfsglobal.com/pak/en/nld/login\""
   ]
  },
  {
   "cell_type": "code",
   "execution_count": 5,
   "metadata": {},
   "outputs": [],
   "source": [
    "op = webdriver.ChromeOptions()\n",
    "op.add_argument('--no-sandbox')\n",
    "op.add_argument('--disable-dev-shm-usage')\n",
    "op.add_argument(\"--headless\")\n",
    "op.add_argument(\"--incognito\")\n",
    "user_agent = 'Mozilla/5.0 (X11; Linux x86_64) AppleWebKit/537.36 (KHTML, like Gecko) Chrome/60.0.3112.50 Safari/537.36'\n",
    "op.add_argument(f'user-agent={user_agent}')"
   ]
  },
  {
   "cell_type": "code",
   "execution_count": 6,
   "metadata": {},
   "outputs": [
    {
     "name": "stderr",
     "output_type": "stream",
     "text": [
      "<ipython-input-6-e0a935a37bde>:1: DeprecationWarning: executable_path has been deprecated, please pass in a Service object\n",
      "  driver = webdriver.Chrome(PATH,options=op)\n"
     ]
    }
   ],
   "source": [
    "driver = webdriver.Chrome(PATH,options=op)\n",
    "driver.delete_all_cookies()\n",
    "#wait = WebDriverWait(driver, 60)\n",
    "driver.get(link)\n",
    "sleep(5)\n",
    "## In case the code raise exception write it\n",
    "content=driver.page_source"
   ]
  },
  {
   "cell_type": "code",
   "execution_count": 7,
   "metadata": {},
   "outputs": [
    {
     "name": "stdout",
     "output_type": "stream",
     "text": [
      "Accepting Cookies!!\n"
     ]
    }
   ],
   "source": [
    "# Dismiss cookie banner if it exists\n",
    "from selenium.webdriver.support import expected_conditions as EC\n",
    "cookie_banner = WebDriverWait(driver, 10).until(EC.visibility_of_element_located((By.ID, \"onetrust-consent-sdk\")))\n",
    "accept_button = cookie_banner.find_element(By.XPATH, '//button[@id=\"onetrust-accept-btn-handler\"]')\n",
    "accept_button.click()\n",
    "print(f\"Accepting Cookies!!\")"
   ]
  },
  {
   "cell_type": "code",
   "execution_count": 8,
   "metadata": {},
   "outputs": [],
   "source": [
    "save_page(content)"
   ]
  },
  {
   "cell_type": "code",
   "execution_count": 9,
   "metadata": {},
   "outputs": [
    {
     "name": "stdout",
     "output_type": "stream",
     "text": [
      "Sending Email!!\n",
      "Sending Password!!\n"
     ]
    }
   ],
   "source": [
    "email= driver.find_element(By.XPATH,\"//input[@formcontrolname='username']\")\n",
    "email.send_keys(\"asadismaeel@gmail.com\")\n",
    "print(f\"Sending Email!!\")\n",
    "sleep(5)\n",
    "passwd = driver.find_element(By.XPATH,'//form//div[text()=\"Password\"]/following-sibling::mat-form-field//input[@formcontrolname=\"password\"]')\n",
    "passwd.send_keys(\"Asad8634!\")\n",
    "print(f\"Sending Password!!\")\n",
    "sleep(5)\n",
    "submit=driver.find_element(By.XPATH,'//button[normalize-space()=\"Sign In\"]')\n",
    "submit.click()\n",
    "sleep(5)"
   ]
  },
  {
   "cell_type": "code",
   "execution_count": 10,
   "metadata": {},
   "outputs": [],
   "source": [
    "content=driver.page_source\n",
    "save_page(content,name=\"content2.html\")"
   ]
  },
  {
   "cell_type": "code",
   "execution_count": 11,
   "metadata": {},
   "outputs": [],
   "source": [
    "button = driver.find_element(By.XPATH, \"//button[contains(.,'Start New Booking')]\")\n",
    "button.click()\n",
    "sleep(5)"
   ]
  },
  {
   "cell_type": "code",
   "execution_count": 12,
   "metadata": {},
   "outputs": [],
   "source": [
    "content=driver.page_source\n",
    "save_page(content,name=\"content3.html\")"
   ]
  },
  {
   "cell_type": "code",
   "execution_count": 13,
   "metadata": {},
   "outputs": [],
   "source": [
    "from selenium.webdriver.common.by import By\n",
    "from selenium.webdriver.support.ui import WebDriverWait\n",
    "from selenium.webdriver.support import expected_conditions as EC\n",
    "from selenium.webdriver.common.action_chains import ActionChains\n",
    "from selenium.webdriver.support.ui import Select\n",
    "\n",
    "select_element = driver.find_element(By.ID,\"mat-select-0\")\n",
    "select_element.click()\n",
    "sleep(2)\n",
    "option_xpath = '//mat-option[contains(.,\"Netherlands Lahore\")]'\n",
    "option_element = WebDriverWait(driver, 10).until(EC.element_to_be_clickable((By.XPATH, option_xpath)))\n",
    "option_element.click()\n",
    "\n",
    "#option_xpath = '//mat-option[@class=\"mat-option mat-focus-indicator ng-tns-c88-4 ng-star-inserted\"][3]'\n",
    "#option_element = WebDriverWait(driver, 10).until(EC.visibility_of_element_located((By.XPATH, option_xpath)))\n",
    "#option_element.click()\n",
    "sleep(5)"
   ]
  },
  {
   "cell_type": "code",
   "execution_count": 14,
   "metadata": {},
   "outputs": [],
   "source": [
    "content=driver.page_source\n",
    "save_page(content,name=\"content4.html\")"
   ]
  },
  {
   "cell_type": "code",
   "execution_count": 15,
   "metadata": {},
   "outputs": [],
   "source": [
    "select_element = driver.find_element(By.ID,\"mat-select-value-5\")\n",
    "select_element.click()\n",
    "sleep(2)\n",
    "option_xpath = '//mat-option[contains(.,\"Family And Friends Visit\")]'\n",
    "option_element = WebDriverWait(driver, 10).until(EC.element_to_be_clickable((By.XPATH, option_xpath)))\n",
    "option_element.click()\n",
    "sleep(5)"
   ]
  },
  {
   "cell_type": "code",
   "execution_count": 16,
   "metadata": {},
   "outputs": [],
   "source": [
    "content=driver.page_source\n",
    "save_page(content,name=\"content5.html\")"
   ]
  },
  {
   "cell_type": "code",
   "execution_count": 19,
   "metadata": {},
   "outputs": [],
   "source": [
    "def find_text(content,txt):\n",
    "    if txt in content:\n",
    "        return True\n",
    "    else:\n",
    "        return False"
   ]
  },
  {
   "cell_type": "code",
   "execution_count": 24,
   "metadata": {},
   "outputs": [],
   "source": [
    "notfound=find_text(content=content,txt=\"No appointment slots are currently available\")"
   ]
  },
  {
   "cell_type": "code",
   "execution_count": 25,
   "metadata": {},
   "outputs": [
    {
     "data": {
      "text/plain": [
       "True"
      ]
     },
     "execution_count": 25,
     "metadata": {},
     "output_type": "execute_result"
    }
   ],
   "source": [
    "notfound"
   ]
  },
  {
   "cell_type": "code",
   "execution_count": 17,
   "metadata": {},
   "outputs": [],
   "source": [
    "#\"No appointment slots are currently available.\""
   ]
  },
  {
   "cell_type": "code",
   "execution_count": 18,
   "metadata": {},
   "outputs": [],
   "source": [
    "#content=driver.page_source\n",
    "#save_page(content,name=\"content4.html\")"
   ]
  }
 ],
 "metadata": {
  "kernelspec": {
   "display_name": "Python 3",
   "language": "python",
   "name": "python3"
  },
  "language_info": {
   "codemirror_mode": {
    "name": "ipython",
    "version": 3
   },
   "file_extension": ".py",
   "mimetype": "text/x-python",
   "name": "python",
   "nbconvert_exporter": "python",
   "pygments_lexer": "ipython3",
   "version": "3.8.5"
  }
 },
 "nbformat": 4,
 "nbformat_minor": 4
}
